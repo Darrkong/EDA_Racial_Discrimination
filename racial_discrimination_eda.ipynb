{
 "cells": [
  {
   "cell_type": "markdown",
   "metadata": {},
   "source": [
    "# Examining Racial Discrimination in the US Job Market\n",
    "\n",
    "### Background\n",
    "Racial discrimination continues to be pervasive in cultures throughout the world. Researchers examined the level of racial discrimination in the United States labor market by randomly assigning identical résumés to black-sounding or white-sounding names and observing the impact on requests for interviews from employers.\n",
    "\n",
    "### Data\n",
    "In the dataset provided, each row represents a resume. The 'race' column has two values, 'b' and 'w', indicating black-sounding and white-sounding. The column 'call' has two values, 1 and 0, indicating whether the resume received a call from employers or not.\n",
    "\n",
    "Note that the 'b' and 'w' values in race are assigned randomly to the resumes when presented to the employer."
   ]
  },
  {
   "cell_type": "markdown",
   "metadata": {},
   "source": [
    "<div class=\"span5 alert alert-info\">\n",
    "### Exercises\n",
    "You will perform a statistical analysis to establish whether race has a significant impact on the rate of callbacks for resumes.\n",
    "\n",
    "Answer the following questions **in this notebook below and submit to your Github account**. \n",
    "\n",
    "   1. What test is appropriate for this problem? Does CLT apply?\n",
    "   2. What are the null and alternate hypotheses?\n",
    "   3. Compute margin of error, confidence interval, and p-value. Try using both the bootstrapping and the frequentist statistical approaches.\n",
    "   4. Write a story describing the statistical significance in the context or the original problem.\n",
    "   5. Does your analysis mean that race/name is the most important factor in callback success? Why or why not? If not, how would you amend your analysis?\n",
    "\n",
    "You can include written notes in notebook cells using Markdown: \n",
    "   - In the control panel at the top, choose Cell > Cell Type > Markdown\n",
    "   - Markdown syntax: http://nestacms.com/docs/creating-content/markdown-cheat-sheet\n",
    "\n",
    "\n",
    "#### Resources\n",
    "+ Experiment information and data source: http://www.povertyactionlab.org/evaluation/discrimination-job-market-united-states\n",
    "+ Scipy statistical methods: http://docs.scipy.org/doc/scipy/reference/stats.html \n",
    "+ Markdown syntax: http://nestacms.com/docs/creating-content/markdown-cheat-sheet\n",
    "+ Formulas for the Bernoulli distribution: https://en.wikipedia.org/wiki/Bernoulli_distribution\n",
    "</div>\n",
    "****"
   ]
  },
  {
   "cell_type": "code",
   "execution_count": 1,
   "metadata": {},
   "outputs": [],
   "source": [
    "import pandas as pd\n",
    "import numpy as np\n",
    "from scipy import stats"
   ]
  },
  {
   "cell_type": "code",
   "execution_count": 2,
   "metadata": {},
   "outputs": [],
   "source": [
    "data = pd.io.stata.read_stata('data/us_job_market_discrimination.dta')"
   ]
  },
  {
   "cell_type": "code",
   "execution_count": 3,
   "metadata": {},
   "outputs": [
    {
     "data": {
      "text/plain": [
       "b    2435\n",
       "w    2435\n",
       "Name: race, dtype: int64"
      ]
     },
     "execution_count": 3,
     "metadata": {},
     "output_type": "execute_result"
    }
   ],
   "source": [
    "data.race.value_counts()"
   ]
  },
  {
   "cell_type": "code",
   "execution_count": 4,
   "metadata": {},
   "outputs": [
    {
     "data": {
      "text/plain": [
       "0.09650924024640657"
      ]
     },
     "execution_count": 4,
     "metadata": {},
     "output_type": "execute_result"
    }
   ],
   "source": [
    "# number of callbacks for white-sounding names\n",
    "data[data.race=='w'].call.sum()/len(data[data.race=='w'])"
   ]
  },
  {
   "cell_type": "code",
   "execution_count": 5,
   "metadata": {},
   "outputs": [
    {
     "data": {
      "text/plain": [
       "0.06447638603696099"
      ]
     },
     "execution_count": 5,
     "metadata": {},
     "output_type": "execute_result"
    }
   ],
   "source": [
    "# number of callbacks for white-sounding names\n",
    "data[data.race=='b'].call.sum()/len(data[data.race=='b'])"
   ]
  },
  {
   "cell_type": "code",
   "execution_count": 6,
   "metadata": {},
   "outputs": [
    {
     "data": {
      "text/plain": [
       "Index(['id', 'ad', 'education', 'ofjobs', 'yearsexp', 'honors', 'volunteer',\n",
       "       'military', 'empholes', 'occupspecific', 'occupbroad', 'workinschool',\n",
       "       'email', 'computerskills', 'specialskills', 'firstname', 'sex', 'race',\n",
       "       'h', 'l', 'call', 'city', 'kind', 'adid', 'fracblack', 'fracwhite',\n",
       "       'lmedhhinc', 'fracdropout', 'fraccolp', 'linc', 'col', 'expminreq',\n",
       "       'schoolreq', 'eoe', 'parent_sales', 'parent_emp', 'branch_sales',\n",
       "       'branch_emp', 'fed', 'fracblack_empzip', 'fracwhite_empzip',\n",
       "       'lmedhhinc_empzip', 'fracdropout_empzip', 'fraccolp_empzip',\n",
       "       'linc_empzip', 'manager', 'supervisor', 'secretary', 'offsupport',\n",
       "       'salesrep', 'retailsales', 'req', 'expreq', 'comreq', 'educreq',\n",
       "       'compreq', 'orgreq', 'manuf', 'transcom', 'bankreal', 'trade',\n",
       "       'busservice', 'othservice', 'missind', 'ownership'],\n",
       "      dtype='object')"
      ]
     },
     "execution_count": 6,
     "metadata": {},
     "output_type": "execute_result"
    }
   ],
   "source": [
    "data.columns"
   ]
  },
  {
   "cell_type": "markdown",
   "metadata": {
    "collapsed": true
   },
   "source": [
    "<div class=\"span5 alert alert-success\">\n",
    "\n",
    "1. What test is appropriate for this problem? Does CLT apply?\n",
    "<br></br>\n",
    "We can do a two sample proportion test.  The CLT would apply because there are large numbers of samples for both black and white candidates.\n",
    "<br></br>\n",
    "<br></br>\n",
    "2. What are the null and alternate hypotheses?\n",
    "<br></br>\n",
    "The null hypothesis is that there is no difference between the callback rate for black sounding names compared with white sounding names.  The alternate hypothesis is that the callback rate for black sounding names is lower than that for white sounding names.\n",
    "</div>"
   ]
  },
  {
   "cell_type": "code",
   "execution_count": 7,
   "metadata": {},
   "outputs": [
    {
     "name": "stdout",
     "output_type": "stream",
     "text": [
      "Frequentist Approach\n",
      "point estimate: -0.032032854209445585\n",
      "margin of error: 0.015255406349886438\n",
      "confidence interval: [-0.047288260559332024, -0.016777447859559147]\n",
      "pvalue: 1.9919434187925383e-05\n",
      "\n",
      "Bootstrap Approach\n",
      "p-value 0.0\n"
     ]
    }
   ],
   "source": [
    "# Frequentist approach\n",
    "from statsmodels.stats.proportion import proportions_ztest\n",
    "count_black = data[data.race=='b'].call.sum()\n",
    "count_white = data[data.race=='w'].call.sum()\n",
    "\n",
    "nobs_black = len(data[data.race=='b'])\n",
    "nobs_white = len(data[data.race=='w'])\n",
    "\n",
    "prop_black = count_black/nobs_black\n",
    "prop_white = count_white/nobs_white\n",
    "\n",
    "sd = np.sqrt(((prop_black * (1-prop_black))/nobs_black) + ((prop_white * (1-prop_white))/nobs_white))\n",
    "moe = 1.96*sd\n",
    "\n",
    "ci = [(prop_black-prop_white)-moe, (prop_black-prop_white)+moe]\n",
    "\n",
    "count = np.array([count_black, count_white])\n",
    "nobs = np.array([nobs_black, nobs_white])\n",
    "stat, pval = proportions_ztest(count, nobs, alternative = 'smaller')\n",
    "\n",
    "print('Frequentist Approach')\n",
    "print('point estimate:', (prop_black-prop_white))\n",
    "print('margin of error:', moe)\n",
    "print('confidence interval:', ci)\n",
    "print('pvalue:', pval)\n",
    "\n",
    "#Bootstrap approach\n",
    "#create sample of 1000 draws from total population:\n",
    "diffs = []\n",
    "for i in range(1, 10001):\n",
    "    black_sample = data.sample(n = 2435, replace = True)\n",
    "    white_sample = data.sample(n = 2435, replace = True)\n",
    "    \n",
    "    black_prop = black_sample.call.sum()/len(black_sample)\n",
    "    white_prop = white_sample.call.sum()/len(white_sample)\n",
    "    \n",
    "    diff_prop = black_prop - white_prop\n",
    "    diffs.append(diff_prop)\n",
    "\n",
    "print('')\n",
    "print('Bootstrap Approach')\n",
    "p_value = (diffs <= (prop_black-prop_white)).sum()/10000\n",
    "print('p-value', p_value)"
   ]
  },
  {
   "cell_type": "markdown",
   "metadata": {},
   "source": [
    "<div class=\"span5 alert alert-success\">\n",
    "<p> Your answers to Q4 and Q5 here </p>\n",
    "4. Write a story describing the statistical significance in the context or the original problem.\n",
    "<br></br>\n",
    "Both approaches show that if there truly is no difference in proportion of callbacks, it would be very unlikely to see results as extreme as the one we observed by chance.  Per the frequentist approach, the probability is 0.0002 and per the boostrap approachwith 10000 experiments, the probability is 0.  Thus, the alternate hypothesis is more likely than the null hypothesis.  It is very likely that black sounding names truly do get fewer call backs.\n",
    "<br></br>\n",
    "<br></br>\n",
    "5. Does your analysis mean that race/name is the most important factor in callback success? Why or why not? If not, how would you amend your analysis?\n",
    "<br></br>\n",
    "It doesn't necessarily mean that race/name is the most important factor.  However, given the p-values, race/name is a strong factor.  Its unlikely other factors are as important as race/name because the experiment randomized resume assignment to a name.  This random selection makes it unlikely for black candidates to look very different from white candidates.  We can do additional analysis to ensure that the two groups have no meaningful differences.\n",
    "</div>"
   ]
  },
  {
   "cell_type": "code",
   "execution_count": null,
   "metadata": {},
   "outputs": [],
   "source": []
  }
 ],
 "metadata": {
  "kernelspec": {
   "display_name": "Python 3",
   "language": "python",
   "name": "python3"
  },
  "language_info": {
   "codemirror_mode": {
    "name": "ipython",
    "version": 3
   },
   "file_extension": ".py",
   "mimetype": "text/x-python",
   "name": "python",
   "nbconvert_exporter": "python",
   "pygments_lexer": "ipython3",
   "version": "3.6.5"
  }
 },
 "nbformat": 4,
 "nbformat_minor": 1
}
